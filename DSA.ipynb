{
 "cells": [
  {
   "cell_type": "markdown",
   "id": "b242783e",
   "metadata": {},
   "source": [
    "# Two Sum"
   ]
  },
  {
   "cell_type": "code",
   "execution_count": 24,
   "id": "bdb8194c",
   "metadata": {},
   "outputs": [],
   "source": [
    "def twoSum(total, gn_array, hashtable):\n",
    "    for idx, element in enumerate(gn_array):\n",
    "        if total-element not in hashtable:\n",
    "            hashtable[element] = idx\n",
    "        else:\n",
    "            print('Elements found')\n",
    "            print(element, idx)\n",
    "            print(total-element, hashtable[total-element])\n",
    "            return\n",
    "    return 'No elements found'"
   ]
  },
  {
   "cell_type": "code",
   "execution_count": 27,
   "id": "33bf4ce8",
   "metadata": {},
   "outputs": [
    {
     "name": "stdout",
     "output_type": "stream",
     "text": [
      "Elements found\n",
      "24 7\n",
      "22 3\n"
     ]
    }
   ],
   "source": [
    "total = 46\n",
    "gn_array = [1, 3, 4, 22, 32, 78, 9, 24, 12]\n",
    "hashtable = {}\n",
    "twoSum(total, gn_array, hashtable)"
   ]
  },
  {
   "cell_type": "markdown",
   "id": "e25ef090",
   "metadata": {},
   "source": [
    "# Median of Medians - Deterministic approach"
   ]
  },
  {
   "cell_type": "code",
   "execution_count": 26,
   "id": "ba4fa534",
   "metadata": {},
   "outputs": [],
   "source": [
    "def median_of_medians(A, i):\n",
    "    \n",
    "    sublists = [A[j:j+5] for j in range(0, len(A), 5)]\n",
    "    medians = [sorted(sublist)[int(len(sublist)/2)] for sublist in sublists]\n",
    "    if len(medians)<=5:\n",
    "        print(medians)\n",
    "        pivot = sorted(medians)[int(len(medians)/2)]\n",
    "    else:\n",
    "        pivot = median_of_medians(medians, i)\n",
    "    \n",
    "    low_array = [element for element in A if element < pivot]\n",
    "    equal_array = [element for element in A if element == pivot]\n",
    "    high_array = [element for element in A if element > pivot]\n",
    "    \n",
    "    k = len(low_array)\n",
    "    \n",
    "    if i < k:\n",
    "        return median_of_medians(low_array, i)\n",
    "    elif i == k:\n",
    "        return pivot\n",
    "    else:\n",
    "        return median_of_medians(high_array, i-k-1)"
   ]
  },
  {
   "cell_type": "code",
   "execution_count": 37,
   "id": "9140b7e5",
   "metadata": {},
   "outputs": [
    {
     "name": "stdout",
     "output_type": "stream",
     "text": [
      "[405, 120]\n",
      "[91, 204]\n",
      "[91, 120]\n"
     ]
    },
    {
     "data": {
      "text/plain": [
       "120"
      ]
     },
     "execution_count": 37,
     "metadata": {},
     "output_type": "execute_result"
    }
   ],
   "source": [
    "import random\n",
    "\n",
    "randomlist = []\n",
    "for i in range(0,10):\n",
    "    n = random.randint(1,500)\n",
    "    randomlist.append(n)\n",
    "randomlist\n",
    "\n",
    "i = 4 # Find (i+1)th smallest element in the array A\n",
    "median_of_medians(A=randomlist, i=i)"
   ]
  },
  {
   "cell_type": "code",
   "execution_count": null,
   "id": "332e5dcf",
   "metadata": {},
   "outputs": [],
   "source": []
  },
  {
   "cell_type": "code",
   "execution_count": null,
   "id": "bda156ee",
   "metadata": {},
   "outputs": [],
   "source": []
  },
  {
   "cell_type": "code",
   "execution_count": null,
   "id": "ddc9c79a",
   "metadata": {},
   "outputs": [],
   "source": []
  },
  {
   "cell_type": "code",
   "execution_count": 1,
   "id": "152842fd",
   "metadata": {},
   "outputs": [],
   "source": [
    "# Algorithms\n",
    "\n",
    "# Find the sorted squares of a sorted list \n",
    "# Arrange even numbers followed by odd numbers\n",
    "# Palindrome\n",
    "# Find number of digits\n",
    "# reverse a list of characters\n",
    "# Find that number which has no duplicates given all others have duplicates twice\n",
    "# Intersection of 2 arrays\n",
    "# "
   ]
  },
  {
   "cell_type": "code",
   "execution_count": 100,
   "id": "1d55238d",
   "metadata": {},
   "outputs": [],
   "source": [
    "# Reverse a string \n",
    "def reverseString(s):\n",
    "    for i in range(0, len(s)//2):\n",
    "        j = len(s) - 1 - i\n",
    "        s[i], s[j] = s[j], s[i]\n",
    "    return s"
   ]
  },
  {
   "cell_type": "code",
   "execution_count": 7,
   "id": "821f7b53",
   "metadata": {},
   "outputs": [
    {
     "data": {
      "text/plain": [
       "1"
      ]
     },
     "execution_count": 7,
     "metadata": {},
     "output_type": "execute_result"
    }
   ],
   "source": [
    "2 ^ 3"
   ]
  },
  {
   "cell_type": "code",
   "execution_count": 20,
   "id": "ebddc9a5",
   "metadata": {},
   "outputs": [
    {
     "name": "stdout",
     "output_type": "stream",
     "text": [
      "1^0 1\n",
      "2^1 3\n",
      "3^3 0\n",
      "3^0 3\n",
      "4^3 7\n",
      "4^7 3\n",
      "5^3 6\n",
      "1^6 7\n",
      "2^7 5\n"
     ]
    }
   ],
   "source": [
    "list_ = [1,2,3,3,4,4,5,1,2]\n",
    "xor = 0\n",
    "for i in range(len(list_)):\n",
    "    print(str(list_[i]) + '^' + str(str(xor)) + ' ' + str(xor^list_[i]))\n",
    "    xor = xor^list_[i]"
   ]
  },
  {
   "cell_type": "code",
   "execution_count": 21,
   "id": "4c8df79d",
   "metadata": {},
   "outputs": [
    {
     "data": {
      "text/plain": [
       "5"
      ]
     },
     "execution_count": 21,
     "metadata": {},
     "output_type": "execute_result"
    }
   ],
   "source": [
    "xor"
   ]
  },
  {
   "cell_type": "code",
   "execution_count": 29,
   "id": "47fdf3e6",
   "metadata": {},
   "outputs": [],
   "source": [
    "# Find if all the string elements in a list has the same letter throughout\n",
    "def same_letters(names):\n",
    "    yes_or_no = []\n",
    "    for name in names:     # O(n)\n",
    "        if name[0]*len(name) == name:  #O(1)\n",
    "            yes_or_no.append(True)\n",
    "        else:\n",
    "            yes_or_no.append(False)\n",
    "    return yes_or_no\n",
    "\n",
    "def same_letters_using_set(names):\n",
    "    yes_or_no = []\n",
    "    for name in names:\n",
    "        if len(set(name)) ==1:\n",
    "            yes_or_no.append(True)\n",
    "        else:\n",
    "            yes_or_no.append(False)\n",
    "    return yes_or_no"
   ]
  },
  {
   "cell_type": "code",
   "execution_count": 31,
   "id": "110a07b6",
   "metadata": {},
   "outputs": [
    {
     "name": "stdout",
     "output_type": "stream",
     "text": [
      "[False, True, True, False]\n",
      "[False, True, True, False]\n"
     ]
    }
   ],
   "source": [
    "names_list = ['praveen', 'aaaa', 'bbbb', 'cavba']\n",
    "print(same_letters(names_list))\n",
    "print(same_letters_using_set(names_list))"
   ]
  },
  {
   "cell_type": "code",
   "execution_count": 44,
   "id": "75d66812",
   "metadata": {},
   "outputs": [
    {
     "name": "stdout",
     "output_type": "stream",
     "text": [
      "Total time taken by function 1 is  0.03716586828231812\n",
      "Total time taken by function 2 is  0.0889252265294393\n"
     ]
    }
   ],
   "source": [
    "# Lets test the time complexity of both the functions\n",
    "import string\n",
    "import random\n",
    "import time\n",
    "letters = string.ascii_lowercase\n",
    "N = 10000000\n",
    "names = []\n",
    "for i in range(N):\n",
    "    string = ''\n",
    "    for j in range(10):\n",
    "        string += random.choice(letters)\n",
    "    names.append(string)\n",
    "start = time.time()\n",
    "same_letters(names)\n",
    "end = time.time()\n",
    "print('Total time taken by function 1 is ', str((end-start)/60))\n",
    "start = time.time()\n",
    "same_letters_using_set(names)\n",
    "end = time.time()\n",
    "print('Total time taken by function 2 is ', str((end-start)/60))"
   ]
  },
  {
   "cell_type": "code",
   "execution_count": null,
   "id": "c20d2092",
   "metadata": {},
   "outputs": [],
   "source": [
    "# For a long sorted list and a short (4 element) sorted list, \n",
    "# what algorithm would you use to search the long list for the 4 elements?\n",
    "\n",
    "def long_short_sorted_lists(long, short):\n",
    "    for \n",
    "        "
   ]
  },
  {
   "cell_type": "code",
   "execution_count": 51,
   "id": "a330317a",
   "metadata": {},
   "outputs": [
    {
     "data": {
      "text/plain": [
       "(97, 122, 65, 90)"
      ]
     },
     "execution_count": 51,
     "metadata": {},
     "output_type": "execute_result"
    }
   ],
   "source": [
    "ord('a'), ord('z'), ord('A'), ord('Z')"
   ]
  },
  {
   "cell_type": "code",
   "execution_count": 73,
   "id": "ad42b9d8",
   "metadata": {},
   "outputs": [],
   "source": [
    "def reverseOnlyLetters(s):\n",
    "    s = list(s)\n",
    "    start = 0\n",
    "    end   = len(s)-1\n",
    "    while(start<=end):  # a-z 97, 122, A-Z 65, 90\n",
    "        if ((97 <= ord(s[start]) <=122) | (65 <= ord(s[start]) <=90)) & \\\n",
    "        ((97 <= ord(s[end]) <=122) | (65<=ord(s[end]) <=90)):\n",
    "            print(True)\n",
    "            s[start], s[end] = s[end], s[start]\n",
    "            start = start+1\n",
    "            end = end - 1\n",
    "        elif (65 <= ord(s[start]) <=90) | (97 <= ord(s[start]) <=122):\n",
    "            print('This')\n",
    "            end = end - 1\n",
    "        else:\n",
    "            print('Here')\n",
    "            start = start + 1\n",
    "    return ''.join(s)"
   ]
  },
  {
   "cell_type": "code",
   "execution_count": 74,
   "id": "4855a40a",
   "metadata": {},
   "outputs": [
    {
     "data": {
      "text/plain": [
       "(115, 107)"
      ]
     },
     "execution_count": 74,
     "metadata": {},
     "output_type": "execute_result"
    }
   ],
   "source": [
    "ord('s'), ord('k')"
   ]
  },
  {
   "cell_type": "code",
   "execution_count": 75,
   "id": "82ef1d4d",
   "metadata": {},
   "outputs": [
    {
     "data": {
      "text/plain": [
       "False"
      ]
     },
     "execution_count": 75,
     "metadata": {},
     "output_type": "execute_result"
    }
   ],
   "source": [
    "(97 <= ord('s') <=122) & (65 <= ord('s') <=90) "
   ]
  },
  {
   "cell_type": "code",
   "execution_count": 76,
   "id": "9e51de70",
   "metadata": {},
   "outputs": [
    {
     "name": "stdout",
     "output_type": "stream",
     "text": [
      "True\n",
      "Here\n",
      "True\n",
      "True\n",
      "Here\n",
      "True\n",
      "This\n",
      "True\n"
     ]
    },
    {
     "data": {
      "text/plain": [
       "'j-Ih-gfE-dCba'"
      ]
     },
     "execution_count": 76,
     "metadata": {},
     "output_type": "execute_result"
    }
   ],
   "source": [
    "reverseOnlyLetters(\"a-bC-dEf-ghIj\")"
   ]
  },
  {
   "cell_type": "code",
   "execution_count": 77,
   "id": "755892e5",
   "metadata": {},
   "outputs": [],
   "source": [
    "# Contains duplicate?\n",
    "def containsDuplicate(nums):\n",
    "    charSet = set()\n",
    "    for num in nums:\n",
    "        if num in charSet:\n",
    "            return True\n",
    "        else:\n",
    "            charSet.add(num)\n",
    "    return False\n"
   ]
  },
  {
   "cell_type": "code",
   "execution_count": 78,
   "id": "440ec387",
   "metadata": {},
   "outputs": [],
   "source": [
    "# Find that Extra char in t not in s\n",
    "def findTheDifference(s, t):\n",
    "    # Sorting and after that element wise comparison of s and t works\n",
    "    # We will do hashtable for this\n",
    "    h = {}\n",
    "    for char in s: # smaller list\n",
    "        h[char] = h.get(char, 0) + 1  # Store each char and count in hash\n",
    "    for char in t: # larger list\n",
    "        if char not in h or h[char]==0:\n",
    "            return char  \n",
    "        else:\n",
    "            h[char] = h.get(char, 0) - 1     # Decrement by 1 when you see the key"
   ]
  },
  {
   "cell_type": "code",
   "execution_count": 79,
   "id": "93647e6f",
   "metadata": {},
   "outputs": [],
   "source": [
    "# First Unique Character in a String\n",
    "def firstUniqChar(s):\n",
    "    h = {}\n",
    "    for char in s:\n",
    "        h[char] = h.get(char,0)+1\n",
    "    for index, char in enumerate(s):\n",
    "        if h[char]==1:\n",
    "            return index\n",
    "    return -1    "
   ]
  },
  {
   "cell_type": "code",
   "execution_count": 80,
   "id": "80f0fc47",
   "metadata": {},
   "outputs": [
    {
     "data": {
      "text/plain": [
       "3"
      ]
     },
     "execution_count": 80,
     "metadata": {},
     "output_type": "execute_result"
    }
   ],
   "source": [
    "firstUniqChar(s=\"hdhksndnsl\")"
   ]
  },
  {
   "cell_type": "code",
   "execution_count": 81,
   "id": "2bb20e05",
   "metadata": {},
   "outputs": [],
   "source": [
    "def binary_search(nums, target):\n",
    "    \"\"\"\n",
    "    :type nums: List[int]\n",
    "    :type target: int\n",
    "    :rtype: int\n",
    "    \"\"\"\n",
    "    start = 0\n",
    "    end = len(nums) - 1\n",
    "    while(start<=end):\n",
    "        mid = int(start + (end-start)/2)\n",
    "        if nums[mid] == target:\n",
    "            return mid\n",
    "        elif target > nums[mid]:\n",
    "            start = mid + 1\n",
    "        else:\n",
    "            end = mid - 1\n",
    "    return -1"
   ]
  },
  {
   "cell_type": "code",
   "execution_count": 82,
   "id": "6841f0de",
   "metadata": {},
   "outputs": [],
   "source": [
    "# When to buy and sell stock\n",
    "def maxProfit(prices):\n",
    "    max_profit = 0\n",
    "    min_price = prices[0]\n",
    "    for price in prices:\n",
    "        if price < min_price:\n",
    "            min_price = price\n",
    "        elif price - min_price > max_profit:\n",
    "            max_profit = price - min_price\n",
    "    return max_profit"
   ]
  },
  {
   "cell_type": "code",
   "execution_count": 83,
   "id": "5ff00eec",
   "metadata": {},
   "outputs": [],
   "source": [
    "# Count total number of odds between a range (inclusive)\n",
    "def countOdds(low, high):\n",
    "    if (low%2==1 and high %2==1) or (low%2==0 and high%2==1) or (low%2==1 and high%2==0): \n",
    "        # Both are odd or First is even & second is odd\n",
    "        return (high - low)//2 + 1\n",
    "    elif low%2==0 and high%2==0: # Both are even\n",
    "        return (high - low)//2"
   ]
  },
  {
   "cell_type": "code",
   "execution_count": 86,
   "id": "804a7ca2",
   "metadata": {},
   "outputs": [],
   "source": [
    "# Longest Common Prefix\n",
    "def longestCommonPrefix(strs):\n",
    "    prefix = ''\n",
    "    smallest_str = strs[0]\n",
    "    for string in strs:\n",
    "        if len(string) < len(smallest_str):\n",
    "            smallest_str = string\n",
    "    for idx, char in enumerate(smallest_str):\n",
    "        for string in strs:\n",
    "            if string[idx] != char:\n",
    "                return prefix\n",
    "        prefix += char\n",
    "    return prefix"
   ]
  },
  {
   "cell_type": "code",
   "execution_count": 87,
   "id": "d73dae36",
   "metadata": {},
   "outputs": [],
   "source": [
    "# Check for Valid Parantheses\n",
    "def isValid(s):\n",
    "    stack = []\n",
    "\n",
    "    for bracket in s:\n",
    "        if bracket=='(' or bracket=='[' or bracket=='{':\n",
    "            stack.append(bracket)\n",
    "        else:\n",
    "            if len(stack)==0:\n",
    "                return False\n",
    "            elif (bracket==')' and stack.pop() == '(') or \\\n",
    "                (bracket==']' and stack.pop() == '[') or \\\n",
    "                (bracket=='}' and stack.pop() == '{'):\n",
    "                continue\n",
    "            else:\n",
    "                return False\n",
    "\n",
    "    return len(stack)==0"
   ]
  },
  {
   "cell_type": "code",
   "execution_count": 89,
   "id": "df87b1b9",
   "metadata": {},
   "outputs": [
    {
     "data": {
      "text/plain": [
       "False"
      ]
     },
     "execution_count": 89,
     "metadata": {},
     "output_type": "execute_result"
    }
   ],
   "source": [
    "isValid(s='[[[[]]]}')"
   ]
  },
  {
   "cell_type": "code",
   "execution_count": 90,
   "id": "ac95cbde",
   "metadata": {},
   "outputs": [],
   "source": [
    "def removeElement(self, nums, val):\n",
    "    j = 0\n",
    "    for i, num in enumerate(nums):\n",
    "        if num!=val:\n",
    "            nums[j], nums[i] = nums[i], nums[j]  # as pointer j always points to the equal (i.e val)\n",
    "            j+=1\n",
    "    return j"
   ]
  },
  {
   "cell_type": "code",
   "execution_count": 91,
   "id": "ec50d3c5",
   "metadata": {},
   "outputs": [],
   "source": [
    "def removeDuplicates(self, nums):\n",
    "    j = 0\n",
    "    for i, num in enumerate(nums):\n",
    "        if nums[j] != nums[i]:\n",
    "            j+=1\n",
    "            nums[j], nums[i] = nums[i], nums[j]\n",
    "    return j + 1"
   ]
  },
  {
   "cell_type": "code",
   "execution_count": 97,
   "id": "253cc160",
   "metadata": {},
   "outputs": [],
   "source": [
    "for i in range(0,0,-1):\n",
    "    print(i)"
   ]
  },
  {
   "cell_type": "code",
   "execution_count": 98,
   "id": "fed15154",
   "metadata": {},
   "outputs": [],
   "source": [
    "# Return the length of last word in the sentence s \n",
    "def lengthOfLastWord(self, s):\n",
    "    start, end = 0, len(s) - 1\n",
    "    while(start<=end):  # Trimming the spaces in the front and setting the start\n",
    "        if s[start]==' ':\n",
    "            start += 1\n",
    "        else:\n",
    "            break\n",
    "    while(end>=start): # Trimming the spaces in the last and setting the end\n",
    "        if s[end]==' ':\n",
    "            end = end - 1\n",
    "        else:\n",
    "            break\n",
    "    if start == end: return 1 # Just one useful character in the entire string\n",
    "    new_s = ''\n",
    "    while(start<=end):\n",
    "        if s[start]!=' ':\n",
    "            new_s+=s[start]\n",
    "        else:\n",
    "            new_s = ''\n",
    "        start += 1\n",
    "    return len(new_s)"
   ]
  },
  {
   "cell_type": "code",
   "execution_count": 99,
   "id": "58eff0eb",
   "metadata": {},
   "outputs": [],
   "source": [
    "# One number\n",
    "def plusOne(digits):\n",
    "    total = 0\n",
    "    for num in digits: # 1, 9, 9 to 199\n",
    "        total = total * 10 + num  # similar to reversing a string (number)\n",
    "    total = total + 1 # 199 + 1 = 200\n",
    "    digits = []\n",
    "\n",
    "    while(total>0):  # 200 to 0, 0, 2\n",
    "        digits.append(total % 10)\n",
    "        total = total//10\n",
    "\n",
    "    for i in range(0, len(digits)//2): # 0, 0, 2 to 2, 0, 0\n",
    "        digits[i], digits[len(digits)-1-i] = digits[len(digits)-1-i], digits[i]\n",
    "    return digits       "
   ]
  },
  {
   "cell_type": "code",
   "execution_count": 138,
   "id": "d9c4cc9d",
   "metadata": {},
   "outputs": [],
   "source": [
    "# Square root of a number (in integer)\n",
    "def mySqrt(x):\n",
    "    if x<2: return x  # for 0, 1 return 0 and 1 \n",
    "    # logic 0 < sqrt(100) < 100//2\n",
    "    start, end = 0, x//2 # starting from 2 is even better (start = 2), end can be x instead of x//2\n",
    "    while(start <= end):\n",
    "        mid = start + (end - start)//2\n",
    "        if mid**2 == x:\n",
    "            return mid\n",
    "        elif mid**2 > x:\n",
    "            end = mid - 1\n",
    "        else:\n",
    "             start = mid + 1\n",
    "    return end"
   ]
  },
  {
   "cell_type": "code",
   "execution_count": 139,
   "id": "81a53e8f",
   "metadata": {},
   "outputs": [
    {
     "data": {
      "text/plain": [
       "(9, 10, 10)"
      ]
     },
     "execution_count": 139,
     "metadata": {},
     "output_type": "execute_result"
    }
   ],
   "source": [
    "mySqrt(99), mySqrt(100), mySqrt(101)"
   ]
  },
  {
   "cell_type": "code",
   "execution_count": 112,
   "id": "33688d95",
   "metadata": {},
   "outputs": [
    {
     "data": {
      "text/plain": [
       "(48, 57)"
      ]
     },
     "execution_count": 112,
     "metadata": {},
     "output_type": "execute_result"
    }
   ],
   "source": [
    "ord('0'), ord('9')"
   ]
  },
  {
   "cell_type": "code",
   "execution_count": 113,
   "id": "bd5d00e5",
   "metadata": {},
   "outputs": [],
   "source": [
    "# Palindrome after removing few\n",
    "def isPalindrome(s):\n",
    "    # a-z 97, 122, A-Z 65, 90\n",
    "    # 0-9, 48-57\n",
    "    new_str = ''\n",
    "    for char in s:\n",
    "        if 65 <= ord(char) <= 90:\n",
    "            new_str += chr(ord(char) + 32)\n",
    "        elif (97 <= ord(char) <= 122) or (48<=ord(char)<=57):\n",
    "            new_str += char\n",
    "    for i in range(0, len(new_str)//2):\n",
    "        if new_str[i] != new_str[len(new_str)-1-i]:\n",
    "            return False\n",
    "    return True"
   ]
  },
  {
   "cell_type": "code",
   "execution_count": 114,
   "id": "3bc3399b",
   "metadata": {},
   "outputs": [
    {
     "data": {
      "text/plain": [
       "False"
      ]
     },
     "execution_count": 114,
     "metadata": {},
     "output_type": "execute_result"
    }
   ],
   "source": [
    "isPalindrome(\"race a car\")"
   ]
  },
  {
   "cell_type": "code",
   "execution_count": 116,
   "id": "66458ee5",
   "metadata": {},
   "outputs": [],
   "source": [
    "# Power of two\n",
    "def isPowerOfTwo(n):\n",
    "    if n == 0: return False\n",
    "    else:\n",
    "        while(n):\n",
    "            if n%2==0:\n",
    "                n = n/2\n",
    "            else:\n",
    "                break\n",
    "    return n==1"
   ]
  },
  {
   "cell_type": "code",
   "execution_count": 117,
   "id": "6722439a",
   "metadata": {},
   "outputs": [],
   "source": [
    "class Solution(object):  # LOOK INTO THIS AND LEARN BIT MANIPULATION\n",
    "    def missingNumber(self, nums):\n",
    "        h = set()\n",
    "        for num in nums:\n",
    "            if num not in h:\n",
    "                h.add(num)\n",
    "        for i in range(0, len(nums)+1):\n",
    "            if i in h:\n",
    "                continue\n",
    "            else: \n",
    "                return i"
   ]
  },
  {
   "cell_type": "code",
   "execution_count": 118,
   "id": "237606be",
   "metadata": {},
   "outputs": [],
   "source": [
    "class Solution(object):\n",
    "    def reverseVowels(self, s):\n",
    "        \"\"\"\n",
    "        :type s: str\n",
    "        :rtype: str\n",
    "        \"\"\"\n",
    "        h = {\"a\", \"e\", \"i\", \"o\", \"u\", \"A\", 'E', 'I', 'O', 'U'}\n",
    "        s = [char for char in s]\n",
    "        start, end = 0, len(s)-1\n",
    "        while(start<=end):\n",
    "            if s[start] in h and s[end] in h:\n",
    "                s[start], s[end] = s[end], s[start]  # PYTHON STRINGS ARE IMMUTABLE DUDE!\n",
    "                start+=1\n",
    "                end-=1\n",
    "            elif s[start] not in h: \n",
    "                start = start + 1\n",
    "            else:\n",
    "                end = end - 1\n",
    "        new_s = ''\n",
    "        for char in s:\n",
    "            new_s+=char\n",
    "        return new_s"
   ]
  },
  {
   "cell_type": "code",
   "execution_count": 119,
   "id": "4d87b933",
   "metadata": {},
   "outputs": [],
   "source": [
    "# Two array intersection\n",
    "def intersection(nums1, nums2):\n",
    "    numSet = set()\n",
    "    intersection = set()\n",
    "    for i in range(len(nums1)):\n",
    "        if nums1[i] not in numSet:\n",
    "            numSet.add(nums1[i])\n",
    "    for i in range(len(nums2)):\n",
    "        if nums2[i] in numSet:\n",
    "            intersection.add(nums2[i])\n",
    "    return list(intersection)"
   ]
  },
  {
   "cell_type": "code",
   "execution_count": null,
   "id": "a8c398a2",
   "metadata": {},
   "outputs": [],
   "source": [
    "# Valid Anagram\n",
    "def isAnagram(s, t):\n",
    "    # Version 1: HashTable\n",
    "    if len(s)!= len(t) : return False\n",
    "    h = {}\n",
    "    for char in s:\n",
    "        h[char] = h.get(char, 0) + 1\n",
    "    for char in t:\n",
    "        if char in h.keys():\n",
    "            h[char] = h[char] - 1\n",
    "        else:\n",
    "            return False\n",
    "    for value in h.values():\n",
    "        if value!=0:\n",
    "            return False\n",
    "    return True\n",
    "    # Version 2: Sorting and checking\n",
    "    "
   ]
  },
  {
   "cell_type": "code",
   "execution_count": 121,
   "id": "5166d1b5",
   "metadata": {},
   "outputs": [
    {
     "data": {
      "text/plain": [
       "49"
      ]
     },
     "execution_count": 121,
     "metadata": {},
     "output_type": "execute_result"
    }
   ],
   "source": [
    "ord('1')"
   ]
  },
  {
   "cell_type": "code",
   "execution_count": 122,
   "id": "0a367ef3",
   "metadata": {},
   "outputs": [
    {
     "ename": "TypeError",
     "evalue": "ord() expected string of length 1, but int found",
     "output_type": "error",
     "traceback": [
      "\u001b[1;31m---------------------------------------------------------------------------\u001b[0m",
      "\u001b[1;31mTypeError\u001b[0m                                 Traceback (most recent call last)",
      "\u001b[1;32m~\\AppData\\Local\\Temp/ipykernel_26224/3759310812.py\u001b[0m in \u001b[0;36m<module>\u001b[1;34m\u001b[0m\n\u001b[1;32m----> 1\u001b[1;33m \u001b[0mord\u001b[0m\u001b[1;33m(\u001b[0m\u001b[1;36m1\u001b[0m\u001b[1;33m)\u001b[0m\u001b[1;33m\u001b[0m\u001b[1;33m\u001b[0m\u001b[0m\n\u001b[0m",
      "\u001b[1;31mTypeError\u001b[0m: ord() expected string of length 1, but int found"
     ]
    }
   ],
   "source": [
    "ord(1)"
   ]
  },
  {
   "cell_type": "code",
   "execution_count": 129,
   "id": "d895e8d2",
   "metadata": {},
   "outputs": [],
   "source": [
    "def thirdMax(nums):\n",
    "    max_val = float('-inf')\n",
    "    for i, num in enumerate(nums): # 1st max\n",
    "        if num > max_val:\n",
    "            print('Yes-1')\n",
    "            max_val = num\n",
    "    first_max = max_val\n",
    "    print(first_max)\n",
    "    max_val = float('-inf')\n",
    "    for i, num in enumerate(nums): # 2nd max\n",
    "        if num > max_val and num!=first_max:\n",
    "            print('Yes-2')\n",
    "            max_val = num\n",
    "    second_max = max_val\n",
    "    print(second_max)\n",
    "    max_val = float('-inf')\n",
    "    for i, num in enumerate(nums):\n",
    "        if num > max_val and num!=first_max and num!=second_max:\n",
    "            print('Yes-3')\n",
    "            max_val = num\n",
    "    print(max_val)        \n",
    "    return max_val"
   ]
  },
  {
   "cell_type": "code",
   "execution_count": 130,
   "id": "31049d8f",
   "metadata": {},
   "outputs": [
    {
     "name": "stdout",
     "output_type": "stream",
     "text": [
      "Yes-1\n",
      "3\n",
      "Yes-2\n",
      "2\n",
      "Yes-3\n",
      "1\n"
     ]
    },
    {
     "data": {
      "text/plain": [
       "1"
      ]
     },
     "execution_count": 130,
     "metadata": {},
     "output_type": "execute_result"
    }
   ],
   "source": [
    "thirdMax([3,2,1])"
   ]
  },
  {
   "cell_type": "code",
   "execution_count": 132,
   "id": "d4b1ab09",
   "metadata": {},
   "outputs": [],
   "source": [
    "# Total number of segments or words in a string\n",
    "def countSegments(s):\n",
    "    segment_count = 0\n",
    "\n",
    "    for i in range(len(s)):\n",
    "        if (i==0 or s[i-1]==' ') and s[i]!=' ':\n",
    "            segment_count += 1\n",
    "    return segment_count"
   ]
  },
  {
   "cell_type": "code",
   "execution_count": 133,
   "id": "db7f621a",
   "metadata": {},
   "outputs": [
    {
     "data": {
      "text/plain": [
       "5"
      ]
     },
     "execution_count": 133,
     "metadata": {},
     "output_type": "execute_result"
    }
   ],
   "source": [
    "countSegments(s=\"Hello, my name is John\")"
   ]
  },
  {
   "cell_type": "code",
   "execution_count": 134,
   "id": "d701b9ac",
   "metadata": {},
   "outputs": [
    {
     "data": {
      "text/plain": [
       "'j'"
      ]
     },
     "execution_count": 134,
     "metadata": {},
     "output_type": "execute_result"
    }
   ],
   "source": [
    "s = 'hdhhjj'\n",
    "s[-1]"
   ]
  },
  {
   "attachments": {
    "image.png": {
     "image/png": "[encoded data removed]"
    }
   },
   "cell_type": "markdown",
   "id": "cda26e38",
   "metadata": {},
   "source": [
    "![image.png](attachment:image.png)"
   ]
  },
  {
   "cell_type": "code",
   "execution_count": 135,
   "id": "770af9ed",
   "metadata": {},
   "outputs": [],
   "source": [
    "# Does row word and column word the same? # The above is YES\n",
    "def validWordSquare(words):\n",
    "    for idx, row_word in enumerate(words): \n",
    "        col_word = ''\n",
    "        for word in words:\n",
    "            try:\n",
    "                col_word+=word[idx]\n",
    "            except:\n",
    "                break\n",
    "        if row_word != col_word:\n",
    "            return False\n",
    "    return True"
   ]
  },
  {
   "attachments": {
    "image.png": {
     "image/png": "[encoded data removed]"
    }
   },
   "cell_type": "markdown",
   "id": "bd8d2b84",
   "metadata": {},
   "source": [
    "![image.png](attachment:image.png)"
   ]
  },
  {
   "cell_type": "code",
   "execution_count": 136,
   "id": "ed20ee34",
   "metadata": {},
   "outputs": [],
   "source": [
    "# Arrange coins in steps\n",
    "def arrangeCoins(n):\n",
    "    start, end = 0, n\n",
    "    while(start<=end):\n",
    "        mid = start + (end - start)//2\n",
    "        if 0.5 * mid * (mid + 1) == n:\n",
    "            return mid\n",
    "        elif 0.5 * mid * (mid + 1) < n:\n",
    "            start = mid + 1\n",
    "        else:\n",
    "            end = mid - 1\n",
    "    return end"
   ]
  },
  {
   "cell_type": "code",
   "execution_count": 137,
   "id": "8e064e73",
   "metadata": {},
   "outputs": [
    {
     "data": {
      "text/plain": [
       "1"
      ]
     },
     "execution_count": 137,
     "metadata": {},
     "output_type": "execute_result"
    }
   ],
   "source": [
    "arrangeCoins(1)"
   ]
  },
  {
   "cell_type": "code",
   "execution_count": 140,
   "id": "551b7d59",
   "metadata": {},
   "outputs": [],
   "source": [
    "# Can the string ransomNote be constructed from magazine string??\n",
    "def canConstruct(ransomNote, magazine):\n",
    "    # As per definition, len(magazine) >= len(ransomNote)\n",
    "    h = {}\n",
    "    for char in magazine:\n",
    "        h[char] = h.get(char, 0) + 1\n",
    "\n",
    "    for char in ransomNote:\n",
    "        if char in h:\n",
    "            h[char] = h[char] - 1\n",
    "        else:\n",
    "            return False\n",
    "    for value in h.values():\n",
    "        if value>=0:\n",
    "            continue\n",
    "        else:\n",
    "            return False"
   ]
  },
  {
   "cell_type": "code",
   "execution_count": 141,
   "id": "48683a70",
   "metadata": {},
   "outputs": [],
   "source": [
    "# The guess API is already defined for you.\n",
    "# @param num, your guess\n",
    "# @return -1 if num is higher than the picked number\n",
    "#          1 if num is lower than the picked number\n",
    "#          otherwise return 0\n",
    "# def guess(num):\n",
    "\n",
    "def guessNumber(self, n):\n",
    "    start, end = 1, n\n",
    "    while(start<=end):\n",
    "        mid = start + (end-start)//2\n",
    "        if guess(mid) == 0: # num==pick (or mid)\n",
    "            return mid\n",
    "        elif guess(mid) == -1: # num > pick=mid\n",
    "            end = mid - 1\n",
    "        else:\n",
    "            start = mid + 1       "
   ]
  },
  {
   "cell_type": "code",
   "execution_count": 142,
   "id": "d401e039",
   "metadata": {},
   "outputs": [],
   "source": [
    "def generatePossibleNextMoves(currentState):\n",
    "    allStates = []\n",
    "    for i in range(len(currentState) - 1):\n",
    "        if currentState[i] == '+' == currentState[i+1]:\n",
    "            flip = currentState[:i] + '--' + currentState[i+2 :]\n",
    "            allStates.append(flip)\n",
    "    return allStates"
   ]
  },
  {
   "cell_type": "code",
   "execution_count": 143,
   "id": "f1b4e874",
   "metadata": {},
   "outputs": [],
   "source": [
    "# Add digits till you get a single digit\n",
    "def addDigits(num):\n",
    "    # METHOD 1 - USING O(N) approach\n",
    "    # total = 0\n",
    "    # flag = True\n",
    "    # while flag:\n",
    "    #     while(num):\n",
    "    #         total += num%10\n",
    "    #         num//=10\n",
    "    #     if total >= 10:\n",
    "    #         flag = True\n",
    "    #         num = total\n",
    "    #         total = 0\n",
    "    #     else:\n",
    "    #         return total\n",
    "    # METHOD 2 - USING O(1) approach - 'Digital root'\n",
    "    if num == 0: return 0\n",
    "    elif num % 9==0: return 9\n",
    "    else: return num % 9"
   ]
  },
  {
   "cell_type": "code",
   "execution_count": 144,
   "id": "32960040",
   "metadata": {},
   "outputs": [],
   "source": [
    "# Subsequence?\n",
    "def isSubsequence(s, t): # 'abc' and 'andbklocpsa' are subsequence since abc occurs in the latter in the same order(a,b,c)\n",
    "    \"\"\"\n",
    "    :type s: str\n",
    "    :type t: str\n",
    "    :rtype: bool\n",
    "    \"\"\"\n",
    "    left_ptr, right_ptr = 0, 0\n",
    "    LEFT_BOUND, RIGHT_BOUND = len(s), len(t)\n",
    "    # len(t)>=len(s)\n",
    "    while(left_ptr < LEFT_BOUND and right_ptr < RIGHT_BOUND):\n",
    "        if s[left_ptr]==t[right_ptr]:\n",
    "            left_ptr += 1\n",
    "            right_ptr += 1\n",
    "        else:\n",
    "            right_ptr +=1"
   ]
  },
  {
   "cell_type": "code",
   "execution_count": 145,
   "id": "1e03fdbe",
   "metadata": {},
   "outputs": [],
   "source": [
    "# Perfect Number\n",
    "def checkPerfectNumber(self, num):\n",
    "    \"\"\"\n",
    "    :type num: int\n",
    "    :rtype: bool\n",
    "    \"\"\"\n",
    "    if num==1: return False\n",
    "    total = 0\n",
    "    for i in range(1, 1 + int(num**0.5)):\n",
    "        if i*i <=num:\n",
    "            if num % i == 0:\n",
    "                total += i\n",
    "                if i!=1 and num/i != i:\n",
    "                    total += num/i            \n",
    "        else:\n",
    "            break\n",
    "    return total==num"
   ]
  },
  {
   "cell_type": "code",
   "execution_count": 152,
   "id": "d3adf2ea",
   "metadata": {},
   "outputs": [
    {
     "data": {
      "text/plain": [
       "0"
      ]
     },
     "execution_count": 152,
     "metadata": {},
     "output_type": "execute_result"
    }
   ],
   "source": [
    "x = 1\n",
    "x>>1\n"
   ]
  },
  {
   "cell_type": "code",
   "execution_count": 153,
   "id": "8d88f84d",
   "metadata": {},
   "outputs": [],
   "source": [
    "# TRY THIS AGAIN - USING BIT OPERATIONS\n",
    "def findComplement(num):\n",
    "    # DO THIS AGAIN\n",
    "    bits = []\n",
    "    # Storing all bit values in an array\n",
    "    while (num > 0):    \n",
    "        bits.append(num % 2)\n",
    "        num = num/2\n",
    "    print(bits)\n",
    "    # Reverse them - thats the true binary rep\n",
    "    for i in range(0, len(bits)//2):\n",
    "        bits[i], bits[len(bits)-1-i] = bits[len(bits)-1-i], bits[i]\n",
    "    print(bits)\n",
    "    # Convert all 1s to 0s and vice-versa\n",
    "    for i in range(len(bits)):\n",
    "        if bits[i] == 0:\n",
    "            bits[i] = 1\n",
    "        else:\n",
    "            bits[i] = 0\n",
    "    print(bits)\n",
    "    # Convert to integer\n",
    "    total = 0\n",
    "    for i in range(0, len(bits)):\n",
    "        total += bits[i] * 2**(len(bits) - 1 - i)\n",
    "    return total"
   ]
  },
  {
   "cell_type": "code",
   "execution_count": 154,
   "id": "2b3c8eb7",
   "metadata": {},
   "outputs": [],
   "source": [
    "# Duplicate element such that i = j and abs(i-j)<=k\n",
    "def containsNearbyDuplicate(nums, k):\n",
    "    h = {}\n",
    "    for index, num in enumerate(nums):\n",
    "        if num not in h:\n",
    "            h[num] = index\n",
    "        else:\n",
    "            if abs(h[num] - index) <=k:\n",
    "                return True\n",
    "            else: # Otherwise update stored index to latest index of the element\n",
    "                h[num] = index   \n",
    "    return False"
   ]
  },
  {
   "cell_type": "code",
   "execution_count": 155,
   "id": "00e1e6c6",
   "metadata": {},
   "outputs": [],
   "source": [
    "# Maximum consecutive ones\n",
    "def findMaxConsecutiveOnes(self, nums):\n",
    "    count, max_count = 0, 0\n",
    "    for num in nums:\n",
    "        if num == 1:\n",
    "            count+=1\n",
    "        else:\n",
    "            max_count = max(max_count, count)\n",
    "            count = 0\n",
    "    return max(max_count, count)"
   ]
  },
  {
   "cell_type": "code",
   "execution_count": 156,
   "id": "b978fe8e",
   "metadata": {},
   "outputs": [
    {
     "data": {
      "text/plain": [
       "(65, 90)"
      ]
     },
     "execution_count": 156,
     "metadata": {},
     "output_type": "execute_result"
    }
   ],
   "source": [
    "ord('A'), ord('Z')"
   ]
  },
  {
   "cell_type": "code",
   "execution_count": 157,
   "id": "75a3c3cb",
   "metadata": {},
   "outputs": [],
   "source": [
    "# Proper word?\n",
    "def detectCapitalUse(word):\n",
    "    \"\"\"\n",
    "    :type word: str\n",
    "    :rtype: bool\n",
    "    \"\"\"\n",
    "    capitals, smalls, first = 0, 0, False\n",
    "    for i, char in enumerate(word):\n",
    "        if i == 0 and 65 <= ord(char) <= 90: \n",
    "            first = True\n",
    "        elif 65 <= ord(char) <= 90:\n",
    "            capitals += 1\n",
    "        else:\n",
    "            smalls += 1 \n",
    "    if first == True and capitals == len(word)-1: return True # All caps\n",
    "    elif first == True and smalls == len(word)-1: return True # FIrst caps and rest smalls\n",
    "    elif smalls == len(word): return True # All smalls\n",
    "    else: return False"
   ]
  },
  {
   "cell_type": "code",
   "execution_count": 161,
   "id": "5c7db244",
   "metadata": {},
   "outputs": [
    {
     "data": {
      "text/plain": [
       "(True, True, False)"
      ]
     },
     "execution_count": 161,
     "metadata": {},
     "output_type": "execute_result"
    }
   ],
   "source": [
    "detectCapitalUse('USA'), detectCapitalUse('tiger'), detectCapitalUse('alieN')"
   ]
  },
  {
   "cell_type": "code",
   "execution_count": null,
   "id": "7d6d18f2",
   "metadata": {},
   "outputs": [],
   "source": []
  },
  {
   "cell_type": "code",
   "execution_count": null,
   "id": "b348ac1d",
   "metadata": {},
   "outputs": [],
   "source": []
  },
  {
   "cell_type": "code",
   "execution_count": null,
   "id": "8a54699b",
   "metadata": {},
   "outputs": [],
   "source": []
  }
 ],
 "metadata": {
  "kernelspec": {
   "display_name": "Python 3 (ipykernel)",
   "language": "python",
   "name": "python3"
  },
  "language_info": {
   "codemirror_mode": {
    "name": "ipython",
    "version": 3
   },
   "file_extension": ".py",
   "mimetype": "text/x-python",
   "name": "python",
   "nbconvert_exporter": "python",
   "pygments_lexer": "ipython3",
   "version": "3.9.7"
  }
 },
 "nbformat": 4,
 "nbformat_minor": 5
}
